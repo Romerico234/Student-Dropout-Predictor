{
 "cells": [
  {
   "cell_type": "code",
   "execution_count": 48,
   "id": "62420294-4d74-41c2-9625-2dd11de0ca2a",
   "metadata": {},
   "outputs": [],
   "source": [
    "import numpy as np\n",
    "import pandas as pd\n",
    "from sklearn.model_selection import StratifiedKFold, train_test_split, ParameterGrid\n",
    "from sklearn.metrics import accuracy_score\n",
    "from joblib import Parallel, delayed"
   ]
  },
  {
   "cell_type": "code",
   "execution_count": 49,
   "id": "ae1e0f47",
   "metadata": {},
   "outputs": [
    {
     "data": {
      "text/html": [
       "<div>\n",
       "<style scoped>\n",
       "    .dataframe tbody tr th:only-of-type {\n",
       "        vertical-align: middle;\n",
       "    }\n",
       "\n",
       "    .dataframe tbody tr th {\n",
       "        vertical-align: top;\n",
       "    }\n",
       "\n",
       "    .dataframe thead th {\n",
       "        text-align: right;\n",
       "    }\n",
       "</style>\n",
       "<table border=\"1\" class=\"dataframe\">\n",
       "  <thead>\n",
       "    <tr style=\"text-align: right;\">\n",
       "      <th></th>\n",
       "      <th>Age at enrollment</th>\n",
       "      <th>Curricular units 1st sem (evaluations)</th>\n",
       "      <th>Curricular units 1st sem (approved)</th>\n",
       "      <th>Curricular units 1st sem (grade)</th>\n",
       "      <th>Curricular units 2nd sem (credited)</th>\n",
       "      <th>Curricular units 2nd sem (enrolled)</th>\n",
       "      <th>Curricular units 2nd sem (approved)</th>\n",
       "      <th>Curricular units 2nd sem (grade)</th>\n",
       "      <th>Unemployment rate</th>\n",
       "      <th>Target</th>\n",
       "      <th>y_labels</th>\n",
       "    </tr>\n",
       "  </thead>\n",
       "  <tbody>\n",
       "    <tr>\n",
       "      <th>0</th>\n",
       "      <td>0.056604</td>\n",
       "      <td>0.000000</td>\n",
       "      <td>0.000000</td>\n",
       "      <td>0.000000</td>\n",
       "      <td>0.0</td>\n",
       "      <td>0.00000</td>\n",
       "      <td>0.00</td>\n",
       "      <td>0.000000</td>\n",
       "      <td>0.372093</td>\n",
       "      <td>Dropout</td>\n",
       "      <td>-1</td>\n",
       "    </tr>\n",
       "    <tr>\n",
       "      <th>1</th>\n",
       "      <td>0.037736</td>\n",
       "      <td>0.133333</td>\n",
       "      <td>0.230769</td>\n",
       "      <td>0.741722</td>\n",
       "      <td>0.0</td>\n",
       "      <td>0.26087</td>\n",
       "      <td>0.30</td>\n",
       "      <td>0.735897</td>\n",
       "      <td>0.732558</td>\n",
       "      <td>Graduate</td>\n",
       "      <td>1</td>\n",
       "    </tr>\n",
       "    <tr>\n",
       "      <th>2</th>\n",
       "      <td>0.037736</td>\n",
       "      <td>0.000000</td>\n",
       "      <td>0.000000</td>\n",
       "      <td>0.000000</td>\n",
       "      <td>0.0</td>\n",
       "      <td>0.26087</td>\n",
       "      <td>0.00</td>\n",
       "      <td>0.000000</td>\n",
       "      <td>0.372093</td>\n",
       "      <td>Dropout</td>\n",
       "      <td>-1</td>\n",
       "    </tr>\n",
       "    <tr>\n",
       "      <th>3</th>\n",
       "      <td>0.056604</td>\n",
       "      <td>0.177778</td>\n",
       "      <td>0.230769</td>\n",
       "      <td>0.711447</td>\n",
       "      <td>0.0</td>\n",
       "      <td>0.26087</td>\n",
       "      <td>0.25</td>\n",
       "      <td>0.667692</td>\n",
       "      <td>0.209302</td>\n",
       "      <td>Graduate</td>\n",
       "      <td>1</td>\n",
       "    </tr>\n",
       "    <tr>\n",
       "      <th>4</th>\n",
       "      <td>0.528302</td>\n",
       "      <td>0.200000</td>\n",
       "      <td>0.192308</td>\n",
       "      <td>0.653422</td>\n",
       "      <td>0.0</td>\n",
       "      <td>0.26087</td>\n",
       "      <td>0.30</td>\n",
       "      <td>0.700000</td>\n",
       "      <td>0.732558</td>\n",
       "      <td>Graduate</td>\n",
       "      <td>1</td>\n",
       "    </tr>\n",
       "  </tbody>\n",
       "</table>\n",
       "</div>"
      ],
      "text/plain": [
       "   Age at enrollment  Curricular units 1st sem (evaluations)  \\\n",
       "0           0.056604                                0.000000   \n",
       "1           0.037736                                0.133333   \n",
       "2           0.037736                                0.000000   \n",
       "3           0.056604                                0.177778   \n",
       "4           0.528302                                0.200000   \n",
       "\n",
       "   Curricular units 1st sem (approved)  Curricular units 1st sem (grade)  \\\n",
       "0                             0.000000                          0.000000   \n",
       "1                             0.230769                          0.741722   \n",
       "2                             0.000000                          0.000000   \n",
       "3                             0.230769                          0.711447   \n",
       "4                             0.192308                          0.653422   \n",
       "\n",
       "   Curricular units 2nd sem (credited)  Curricular units 2nd sem (enrolled)  \\\n",
       "0                                  0.0                              0.00000   \n",
       "1                                  0.0                              0.26087   \n",
       "2                                  0.0                              0.26087   \n",
       "3                                  0.0                              0.26087   \n",
       "4                                  0.0                              0.26087   \n",
       "\n",
       "   Curricular units 2nd sem (approved)  Curricular units 2nd sem (grade)  \\\n",
       "0                                 0.00                          0.000000   \n",
       "1                                 0.30                          0.735897   \n",
       "2                                 0.00                          0.000000   \n",
       "3                                 0.25                          0.667692   \n",
       "4                                 0.30                          0.700000   \n",
       "\n",
       "   Unemployment rate    Target  y_labels  \n",
       "0           0.372093   Dropout        -1  \n",
       "1           0.732558  Graduate         1  \n",
       "2           0.372093   Dropout        -1  \n",
       "3           0.209302  Graduate         1  \n",
       "4           0.732558  Graduate         1  "
      ]
     },
     "execution_count": 49,
     "metadata": {},
     "output_type": "execute_result"
    }
   ],
   "source": [
    "data = pd.read_csv('data/significant-features-data.csv')\n",
    "data.head()"
   ]
  },
  {
   "cell_type": "code",
   "execution_count": 50,
   "id": "19cd3d55",
   "metadata": {},
   "outputs": [],
   "source": [
    "feature_columns = data.columns.drop(['Target', 'y_labels'])\n",
    "X = data[feature_columns].to_numpy(dtype=float)\n",
    "y = data['y_labels'].to_numpy(dtype=int)"
   ]
  },
  {
   "cell_type": "code",
   "execution_count": 51,
   "id": "1b938268",
   "metadata": {},
   "outputs": [],
   "source": [
    "X_train, X_test, y_train, y_test = train_test_split(X, y, test_size=0.2, random_state=0, shuffle=True)"
   ]
  },
  {
   "cell_type": "code",
   "execution_count": 52,
   "id": "21c1516d",
   "metadata": {},
   "outputs": [],
   "source": [
    "# Augment X matrices with column of 1s (for intercept)\n",
    "X_train = np.hstack([X_train, np.ones((X_train.shape[0], 1))])\n",
    "X_test = np.hstack([X_test, np.ones((X_test.shape[0], 1))])"
   ]
  },
  {
   "cell_type": "code",
   "execution_count": 53,
   "id": "cc313e59",
   "metadata": {},
   "outputs": [],
   "source": [
    "# Polynomial Kernel\n",
    "def polynomial_kernel(A, B, *, degree=3, gamma=1., coef0=1.):\n",
    "    \"\"\"\n",
    "    K(x, x') = (gamma * <x, x'> + coef0)^degree\n",
    "    \"\"\"\n",
    "    return (gamma * (A @ B.T) + coef0) ** degree"
   ]
  },
  {
   "cell_type": "code",
   "execution_count": 54,
   "id": "7f939ea9",
   "metadata": {},
   "outputs": [],
   "source": [
    "# Gaussian Kernel\n",
    "def gaussian_kernel(A, B, *, gamma=1.):\n",
    "    \"\"\"\n",
    "    K(x, x') = exp( - gamma * ||x - x'||^2 )\n",
    "    \"\"\"\n",
    "    A2 = (A**2).sum(1)[:, None]\n",
    "    B2 = (B**2).sum(1)[None, :]\n",
    "    return np.exp(-gamma * (A2 + B2 - 2 * (A @ B.T)))"
   ]
  },
  {
   "cell_type": "code",
   "execution_count": 55,
   "id": "a0df7881",
   "metadata": {},
   "outputs": [],
   "source": [
    "def train_kernel_svm_sgd(X, y, kernel, T=1000, C=1.0, **kernel_params):\n",
    "    \"\"\"\n",
    "    Dual-SGD for hinge-loss SVM using a precomputed Gram matrix.\n",
    "    Returns the averaged alpha coefficients.\n",
    "    \"\"\"\n",
    "    n = X.shape[0]\n",
    "    # precompute Gram matrix\n",
    "    K = kernel(X, X, **kernel_params)\n",
    "    \n",
    "    # betas accumulate raw counts; we'll convert to alphas each step\n",
    "    beta = np.zeros(n)\n",
    "    alpha_sum = np.zeros(n)\n",
    "    \n",
    "    for t in range(1, T + 1):\n",
    "        # compute current alphas from beta\n",
    "        alpha = beta / (2 * C * t)\n",
    "        \n",
    "        # uniformly pick one example at random\n",
    "        j = np.random.randint(n)\n",
    "        \n",
    "        # decision function margin for j\n",
    "        margin_j = y[j] * np.dot(alpha * y, K[:, j])\n",
    "        \n",
    "        # if margin_j < 1, we incur hinge loss → update beta_j\n",
    "        if margin_j < 1:\n",
    "            beta[j] += y[j]\n",
    "        \n",
    "        alpha_sum += alpha\n",
    "    \n",
    "    # return the averaged alpha over all iterations\n",
    "    return alpha_sum / T"
   ]
  },
  {
   "cell_type": "code",
   "execution_count": 56,
   "id": "838bb56b",
   "metadata": {},
   "outputs": [],
   "source": [
    "def predict_kernel_svm(alpha, X_train, y_train, X_eval, kernel, **kernel_params):\n",
    "    \"\"\"\n",
    "    Predict sign( f(x) ) where\n",
    "      f(x) = sum_i alpha_i * y_i * K(x_i, x)\n",
    "    \"\"\"\n",
    "    return np.sign((alpha * y_train) @ kernel(X_train, X_eval, **kernel_params))"
   ]
  },
  {
   "cell_type": "code",
   "execution_count": 57,
   "id": "6d3e72eb",
   "metadata": {},
   "outputs": [],
   "source": [
    "def cross_validate(params, X, y, kernel, *, n_folds=5, T=500):\n",
    "    \"\"\"\n",
    "    Perform k-fold cross-validation for kernel SVM with given parameters\n",
    "    Returns average accuracy across folds\n",
    "    \"\"\"\n",
    "    C = params['C']\n",
    "    kernel_params = {k: v for k, v in params.items() if k != 'C'}\n",
    "\n",
    "    acc = []\n",
    "    skf = StratifiedKFold(n_splits=n_folds, shuffle=True, random_state=0)\n",
    "\n",
    "    for train_idx, val_idx in skf.split(X, y):\n",
    "        X_tr, X_val = X[train_idx], X[val_idx]\n",
    "        y_tr, y_val = y[train_idx], y[val_idx]\n",
    "\n",
    "        alpha = train_kernel_svm_sgd(X_tr, y_tr, kernel, C=C, T=T, **kernel_params)\n",
    "        preds = predict_kernel_svm(alpha, X_tr, y_tr, X_val, kernel, **kernel_params)\n",
    "\n",
    "        acc.append((preds == y_val).mean())\n",
    "\n",
    "    return np.mean(acc)"
   ]
  },
  {
   "cell_type": "code",
   "execution_count": 58,
   "id": "6819ffa8",
   "metadata": {},
   "outputs": [],
   "source": [
    "def grid_search_svm(X, y, kernel, param_grid, *, n_folds=5, T=500, n_jobs=-1):\n",
    "    \"\"\"\n",
    "    Perform grid search to find best hyperparameters\n",
    "    Returns best parameters and best score\n",
    "    \"\"\"\n",
    "    grid = list(ParameterGrid(param_grid))\n",
    "    scores = Parallel(n_jobs=n_jobs, verbose=1)(\n",
    "        delayed(cross_validate)(p, X, y, kernel, n_folds=n_folds, T=T) for p in grid\n",
    "    )\n",
    "    best_i = int(np.argmax(scores))\n",
    "    return grid[best_i], scores[best_i]"
   ]
  },
  {
   "cell_type": "code",
   "execution_count": 59,
   "id": "afc845ec",
   "metadata": {},
   "outputs": [],
   "source": [
    "# Parameter grids for both kernels\n",
    "poly_grid = dict(degree=[2,3,4], gamma=[.1,1,10], coef0=[0,1], C=[.1,1,10])\n",
    "gaussian_grid  = dict(gamma=[.01,.1,1,10], C=[.1,1,10])"
   ]
  },
  {
   "cell_type": "code",
   "execution_count": 60,
   "id": "9b6ed3db",
   "metadata": {},
   "outputs": [
    {
     "name": "stdout",
     "output_type": "stream",
     "text": [
      ">> Polynomial grid-search\n"
     ]
    },
    {
     "name": "stderr",
     "output_type": "stream",
     "text": [
      "[Parallel(n_jobs=-1)]: Using backend LokyBackend with 8 concurrent workers.\n",
      "[Parallel(n_jobs=-1)]: Done  34 tasks      | elapsed:    3.8s\n"
     ]
    },
    {
     "name": "stdout",
     "output_type": "stream",
     "text": [
      "Best poly params: {'C': 0.1, 'coef0': 0, 'degree': 2, 'gamma': 0.1} CV = 0.6787228601794804\n"
     ]
    },
    {
     "name": "stderr",
     "output_type": "stream",
     "text": [
      "[Parallel(n_jobs=-1)]: Done  54 out of  54 | elapsed:    5.4s finished\n"
     ]
    }
   ],
   "source": [
    "# Perform grid search for polynomial kernel\n",
    "print(\">> Polynomial grid-search\")\n",
    "best_poly, poly_cv = grid_search_svm(X_train, y_train, polynomial_kernel, poly_grid)\n",
    "print(\"Best poly params:\", best_poly, \"CV =\", poly_cv)"
   ]
  },
  {
   "cell_type": "code",
   "execution_count": 61,
   "id": "5b462404",
   "metadata": {},
   "outputs": [
    {
     "name": "stdout",
     "output_type": "stream",
     "text": [
      "\n",
      ">> Gaussian grid-search\n"
     ]
    },
    {
     "name": "stderr",
     "output_type": "stream",
     "text": [
      "[Parallel(n_jobs=-1)]: Using backend LokyBackend with 8 concurrent workers.\n"
     ]
    },
    {
     "name": "stdout",
     "output_type": "stream",
     "text": [
      "Best gaussian params: {'C': 0.1, 'gamma': 0.01} CV = 0.6787228601794804\n"
     ]
    },
    {
     "name": "stderr",
     "output_type": "stream",
     "text": [
      "[Parallel(n_jobs=-1)]: Done  10 out of  12 | elapsed:    1.6s remaining:    0.3s\n",
      "[Parallel(n_jobs=-1)]: Done  12 out of  12 | elapsed:    1.7s finished\n"
     ]
    }
   ],
   "source": [
    "\n",
    "# Perform grid search for Gaussian kernel\n",
    "print(\"\\n>> Gaussian grid-search\")\n",
    "best_gaussian, gaussian_cv = grid_search_svm(X_train, y_train, gaussian_kernel, gaussian_grid)\n",
    "print(\"Best gaussian params:\", best_gaussian, \"CV =\", gaussian_cv)"
   ]
  },
  {
   "cell_type": "code",
   "execution_count": 65,
   "id": "7062b39c",
   "metadata": {},
   "outputs": [],
   "source": [
    "def fit_and_eval(best_params, kernel, name):\n",
    "    C = best_params['C']\n",
    "    kernel_params = {k: v for k, v in best_params.items() if k != 'C'}\n",
    "\n",
    "    alpha = train_kernel_svm_sgd(X_train, y_train, kernel, C=C, T=1000, **kernel_params)\n",
    "    preds = predict_kernel_svm(alpha, X_train, y_train, X_test, kernel, **kernel_params)\n",
    "\n",
    "    acc = accuracy_score(y_test, preds)\n",
    "    print(f\"\\n{name} kernel - test accuracy: {acc:.4f}\")\n"
   ]
  },
  {
   "cell_type": "code",
   "execution_count": 66,
   "id": "d21ddcc2",
   "metadata": {},
   "outputs": [
    {
     "name": "stdout",
     "output_type": "stream",
     "text": [
      "\n",
      "Polynomial kernel - test accuracy: 0.6791\n"
     ]
    }
   ],
   "source": [
    "# Train Polynomial kernel model\n",
    "fit_and_eval(best_poly, polynomial_kernel, \"Polynomial\")"
   ]
  },
  {
   "cell_type": "code",
   "execution_count": 67,
   "id": "a4dd7998",
   "metadata": {},
   "outputs": [
    {
     "name": "stdout",
     "output_type": "stream",
     "text": [
      "\n",
      "Gaussian kernel - test accuracy: 0.6791\n"
     ]
    }
   ],
   "source": [
    "# Train Gaussian kernel model\n",
    "fit_and_eval(best_gaussian, gaussian_kernel, \"Gaussian\")"
   ]
  },
  {
   "cell_type": "code",
   "execution_count": null,
   "id": "ce02734f",
   "metadata": {},
   "outputs": [],
   "source": []
  }
 ],
 "metadata": {
  "kernelspec": {
   "display_name": "base",
   "language": "python",
   "name": "python3"
  },
  "language_info": {
   "codemirror_mode": {
    "name": "ipython",
    "version": 3
   },
   "file_extension": ".py",
   "mimetype": "text/x-python",
   "name": "python",
   "nbconvert_exporter": "python",
   "pygments_lexer": "ipython3",
   "version": "3.12.7"
  }
 },
 "nbformat": 4,
 "nbformat_minor": 5
}
