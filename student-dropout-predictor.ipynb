{
 "cells": [
  {
   "cell_type": "code",
   "execution_count": 6,
   "id": "8c19813a-5afd-46d0-a700-39ec6756c4ee",
   "metadata": {},
   "outputs": [
    {
     "name": "stdout",
     "output_type": "stream",
     "text": [
      "0       0\n",
      "1       1\n",
      "2       0\n",
      "3       1\n",
      "4       1\n",
      "       ..\n",
      "4419    1\n",
      "4420    0\n",
      "4421    0\n",
      "4422    1\n",
      "4423    1\n",
      "Name: Target, Length: 4424, dtype: int64\n"
     ]
    }
   ],
   "source": [
    "import numpy as np\n",
    "import pandas as pd\n",
    "\n",
    "data = pd.read_csv('data/data.csv', delimiter=';')\n",
    "\n",
    "\n",
    "columns_to_drop = ['Displaced', 'Educational special needs', 'Debtor', 'Tuition fees up to date', 'Gender', \n",
    "                    'Scholarship holder', 'International', 'Marital Status', '\"Daytime/evening attendance\t\"', 'Application mode', 'Application order',\n",
    "                    'Course', 'Previous qualification', 'Previous qualification (grade)', \"Mother's qualification\", \"Father's qualification\",\n",
    "                    \"Mother's occupation\", \"Father's occupation\", 'Nacionality']\n",
    "\n",
    "filtered_dataset = data.drop(columns=columns_to_drop, errors='ignore', axis=1)\n",
    "\n",
    "filtered_dataset['Target'] = filtered_dataset['Target'].map({'Graduate': 1, 'Enrolled': 1, 'Dropout': 0})\n",
    "\n",
    "print(filtered_dataset['Target'])"
   ]
  }
 ],
 "metadata": {
  "kernelspec": {
   "display_name": "dropout-predictor",
   "language": "python",
   "name": "python3"
  },
  "language_info": {
   "codemirror_mode": {
    "name": "ipython",
    "version": 3
   },
   "file_extension": ".py",
   "mimetype": "text/x-python",
   "name": "python",
   "nbconvert_exporter": "python",
   "pygments_lexer": "ipython3",
   "version": "3.13.3"
  }
 },
 "nbformat": 4,
 "nbformat_minor": 5
}
