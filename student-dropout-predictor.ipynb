{
 "cells": [
  {
   "cell_type": "code",
   "execution_count": null,
   "id": "8c19813a-5afd-46d0-a700-39ec6756c4ee",
   "metadata": {
    "vscode": {
     "languageId": "python"
    }
   },
   "outputs": [],
   "source": [
    "import numpy as np\n",
    "import pandas as pd\n",
    "\n",
    "data = pd.read_csv('data.csv', delimiter=';')\n",
    "\n",
    "\n",
    "columns_to_drop = ['Displaced', 'Educational special needs', 'Debtor', 'Tuition fees up to date', 'Gender', \n",
    "                    'Scholarship holder', 'International', 'Marital Status', '\"Daytime/evening attendance\t\"', 'Application mode', 'Application order',\n",
    "                    'Course', 'Previous qualification', 'Previous qualification (grade)', \"Mother's qualification\", \"Father's qualification\",\n",
    "                    \"Mother's occupation\", \"Father's occupation\", 'Nacionality']\n",
    "\n",
    "filtered_dataset = data.drop(columns=columns_to_drop, errors='ignore', axis=1)\n",
    "\n",
    "print(filtered_dataset.head)"
   ]
  }
 ],
 "metadata": {
  "kernelspec": {
   "display_name": "",
   "name": ""
  },
  "language_info": {
   "name": ""
  }
 },
 "nbformat": 4,
 "nbformat_minor": 5
}
