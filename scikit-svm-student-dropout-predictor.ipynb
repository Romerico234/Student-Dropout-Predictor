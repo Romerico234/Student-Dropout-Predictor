{
 "cells": [
  {
   "cell_type": "code",
   "execution_count": 1,
   "id": "ebba05bc-593e-459b-a1ed-8de16e810128",
   "metadata": {},
   "outputs": [],
   "source": [
    "import pandas as pd\n",
    "import numpy as np\n",
    "from sklearn.svm import SVC\n",
    "from sklearn.model_selection import KFold"
   ]
  },
  {
   "cell_type": "code",
   "execution_count": 2,
   "id": "1cfc2259",
   "metadata": {},
   "outputs": [],
   "source": [
    "data = pd.read_csv('data/significant-features-data.csv')\n",
    "data = data.drop('Target', axis=1)\n",
    "data = data.to_numpy()\n",
    "m = int(0.8 * len(data))\n",
    "train_data = data[:m]\n",
    "test_data = data[m:]"
   ]
  },
  {
   "cell_type": "markdown",
   "id": "628b7873",
   "metadata": {},
   "source": [
    "end of testwork"
   ]
  },
  {
   "cell_type": "markdown",
   "id": "e347e153",
   "metadata": {},
   "source": [
    "Using grid search to test best params. Two kernels being tested are polynomial and rbf. Other hyperparams will be tested as well. Scikit learn's grid search package can perform cross validation, so that will be implemented in this. "
   ]
  },
  {
   "cell_type": "code",
   "execution_count": null,
   "id": "f8c25e9e",
   "metadata": {},
   "outputs": [
    {
     "name": "stdout",
     "output_type": "stream",
     "text": [
      "best params: {'svm__C': 1, 'svm__degree': 2, 'svm__gamma': 'scale', 'svm__kernel': 'poly'}\n",
      "Best Cross-Validation Accuracy: 0.8482587362852507\n"
     ]
    }
   ],
   "source": [
    "from sklearn.model_selection import GridSearchCV\n",
    "from sklearn.pipeline import Pipeline\n",
    "from sklearn.metrics import accuracy_score\n",
    "from sklearn.preprocessing import MinMaxScaler\n",
    "\n",
    "\n",
    "X_train, y_train = train_data[:, :-1], train_data[:, -1]\n",
    "\n",
    "params = [\n",
    "\n",
    "    {\n",
    "    'svm__kernel': ['poly'],\n",
    "    'svm__gamma': ('scale', 'auto'),\n",
    "    'svm__degree': [1, 2, 3, 4],\n",
    "    'svm__C': [1, 0.1, 0.01]\n",
    "    },\n",
    "\n",
    "    {\n",
    "    'svm__kernel': ['rbf'],\n",
    "    'svm__gamma': ('scale', 'auto'),\n",
    "    'svm__C': [1, 0.1, 0.01]\n",
    "    },\n",
    "]\n",
    "\n",
    "pipeline = Pipeline([\n",
    "    ('scaler', MinMaxScaler()),\n",
    "    ('svm', SVC(max_iter=10000))\n",
    "])\n",
    "\n",
    "grid_search = GridSearchCV(\n",
    "    pipeline,\n",
    "    cv=5,\n",
    "    param_grid = params,\n",
    "    scoring='accuracy'\n",
    ")\n",
    "\n",
    "grid_search.fit(X_train, y_train)\n",
    "print(f'best params: {grid_search.best_params_}')\n",
    "print(\"Best Cross-Validation Accuracy:\", grid_search.best_score_)"
   ]
  },
  {
   "cell_type": "code",
   "execution_count": null,
   "id": "8d5bccfb",
   "metadata": {},
   "outputs": [],
   "source": []
  }
 ],
 "metadata": {
  "kernelspec": {
   "display_name": "base",
   "language": "python",
   "name": "python3"
  },
  "language_info": {
   "codemirror_mode": {
    "name": "ipython",
    "version": 3
   },
   "file_extension": ".py",
   "mimetype": "text/x-python",
   "name": "python",
   "nbconvert_exporter": "python",
   "pygments_lexer": "ipython3",
   "version": "3.12.7"
  }
 },
 "nbformat": 4,
 "nbformat_minor": 5
}
