{
 "cells": [
  {
   "cell_type": "code",
   "execution_count": null,
   "id": "02182bd6-d839-46d5-803d-183c915966c5",
   "metadata": {},
   "outputs": [],
   "source": [
    "import numpy as np\n",
    "import pandas as pd\n",
    "from sklearn.linear_model import SGDClassifier\n",
    "from sklearn.model_selection import KFold\n",
    "from scipy.stats import ttest_1samp"
   ]
  },
  {
   "cell_type": "code",
   "execution_count": null,
   "id": "49814940",
   "metadata": {},
   "outputs": [],
   "source": [
    "feature_columns = processed_dataset.columns.drop(['Target', 'y_labels'])\n",
    "X = processed_dataset[feature_columns].to_numpy(dtype=float)\n",
    "y = processed_dataset['y_labels'].to_numpy(dtype=int)"
   ]
  },
  {
   "cell_type": "code",
   "execution_count": null,
   "id": "8cc33fcd",
   "metadata": {},
   "outputs": [],
   "source": [
    "kf = KFold(n_splits=5, shuffle=False)   # shuffle=False ensures folds remain fixed across iterations\n",
    "coefs = []  "
   ]
  },
  {
   "cell_type": "code",
   "execution_count": null,
   "id": "0ee129ae",
   "metadata": {},
   "outputs": [],
   "source": [
    "# Choosing a linear model \n",
    "sgd_svm = SGDClassifier(\n",
    "    loss='hinge',         \n",
    "    penalty='l2',       \n",
    "    learning_rate='optimal',\n",
    "    max_iter=1000,\n",
    "    tol=1e-4,\n",
    "    random_state=0\n",
    ")"
   ]
  },
  {
   "cell_type": "code",
   "execution_count": null,
   "id": "7c4abfe3",
   "metadata": {},
   "outputs": [],
   "source": [
    "\n",
    "for tr_idx, _ in kf.split(X):\n",
    "    sgd_svm.fit(X[tr_idx], y[tr_idx])\n",
    "    coefs.append(sgd_svm.coef_.ravel())\n",
    "\n",
    "coefs = np.vstack(coefs) "
   ]
  },
  {
   "cell_type": "code",
   "execution_count": null,
   "id": "32844646",
   "metadata": {},
   "outputs": [],
   "source": [
    "# Statistical Analysis\n",
    "coef_mean = coefs.mean(axis=0)\n",
    "coef_std  = coefs.std(axis=0, ddof=1)          \n",
    "t_stats, p_vals = ttest_1samp(coefs, popmean=0.0, axis=0)\n",
    "\n",
    "results = pd.DataFrame({\n",
    "    'feature'   : feature_columns,\n",
    "    'mean_coef' : coef_mean,\n",
    "    'std_coef'  : coef_std,\n",
    "    't_stat'    : t_stats,\n",
    "    'p_value'   : p_vals\n",
    "}).sort_values('p_value')\n",
    "\n",
    "print(results)"
   ]
  },
  {
   "cell_type": "markdown",
   "id": "99dfde2d",
   "metadata": {},
   "source": [
    "All features with a p-value less than 0.05 are statistically significant and will be kept. Features with higher p-values will be excluded from the model.\n",
    "\n",
    "Significant Features (p < 0.05):\n",
    "- Curricular units 1st sem (approved)\n",
    "- Age at enrollment\n",
    "- Curricular units 2nd sem (approved)\n",
    "- Curricular units 2nd sem (enrolled)\n",
    "- Curricular units 1st sem (grade)\n",
    "- Curricular units 1st sem (enrolled)\n",
    "- Curricular units 1st sem (credited)\n",
    "- Curricular units 2nd sem (credited)\n",
    "- Curricular units 2nd sem (grade)\n",
    "- Curricular units 2nd sem (evaluations)\n",
    "- Curricular units 1st sem (without evaluations)\n",
    "- Admission grade\n",
    "- Unemployment rate\n",
    "\n",
    "Non-Significant Features (p ≥ 0.05):\n",
    "- Inflation rate\n",
    "- Curricular units 1st sem (evaluations)\n",
    "- GDP\n",
    "- Previous qualification (grade)\n",
    "- Curricular units 2nd sem (without evaluations)"
   ]
  },
  {
   "cell_type": "code",
   "execution_count": null,
   "id": "91ffa88b",
   "metadata": {},
   "outputs": [],
   "source": [
    "# Removing non-significant features\n",
    "nonsignificant_features = ['Inflation rate', 'Curricular units 1st sem (evaluations)', 'GDP', 'Previous qualification (grade)', 'Curricular units 2nd sem (without evaluations)']\n",
    "\n",
    "processed_dataset = processed_dataset.drop(columns=nonsignificant_features, errors='ignore', axis=1)\n",
    "processed_dataset.head()"
   ]
  }
 ],
 "metadata": {
  "kernelspec": {
   "display_name": "Python [conda env:base] *",
   "language": "python",
   "name": "conda-base-py"
  },
  "language_info": {
   "codemirror_mode": {
    "name": "ipython",
    "version": 3
   },
   "file_extension": ".py",
   "mimetype": "text/x-python",
   "name": "python",
   "nbconvert_exporter": "python",
   "pygments_lexer": "ipython3",
   "version": "3.12.7"
  }
 },
 "nbformat": 4,
 "nbformat_minor": 5
}
